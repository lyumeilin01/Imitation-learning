{
 "cells": [
  {
   "cell_type": "markdown",
   "source": [],
   "metadata": {
    "collapsed": false
   }
  },
  {
   "cell_type": "markdown",
   "source": [
    "# 579 - A3"
   ],
   "metadata": {
    "collapsed": false
   }
  },
  {
   "cell_type": "code",
   "execution_count": 1,
   "outputs": [],
   "source": [
    "import pandas\n",
    "import numpy as np\n",
    "import gymnasium as gym\n",
    "from sklearn.linear_model import LogisticRegression\n",
    "import matplotlib.pyplot as plt"
   ],
   "metadata": {
    "collapsed": false
   }
  },
  {
   "cell_type": "markdown",
   "source": [
    "## Data Preprocessing"
   ],
   "metadata": {
    "collapsed": false
   }
  },
  {
   "cell_type": "code",
   "execution_count": 2,
   "metadata": {
    "collapsed": true
   },
   "outputs": [],
   "source": [
    "def load_data(file_path):\n",
    "    data = pandas.read_csv(file_path, index_col=False)\n",
    "    return data\n",
    "\n",
    "np.set_printoptions(edgeitems=30)\n",
    "# expert_100 = np.genfromtxt('expert_100.csv', delimiter=',')[1:-1]\n",
    "# expert_100_im = load_data('expert_100.csv')\n"
   ]
  },
  {
   "cell_type": "markdown",
   "source": [
    "## Data Discretization and One-Hot Encode"
   ],
   "metadata": {
    "collapsed": false
   }
  },
  {
   "cell_type": "markdown",
   "source": [
    "dimension of state: num_data by 40"
   ],
   "metadata": {
    "collapsed": false
   }
  },
  {
   "cell_type": "code",
   "execution_count": 3,
   "outputs": [],
   "source": [
    "def one_hot(s1, s2, s3, s4):\n",
    "    a = np.array([s1, s2, s3, s4])\n",
    "    b = np.zeros((a.size, 10))\n",
    "    b[np.arange(a.size), a] = 1\n",
    "    return b.reshape(-1)\n",
    "\n",
    "def sigmoid(x):\n",
    "    return 1.0 / (1.0 + np.exp(-x))\n",
    "\n",
    "def getBin(s, intervals):\n",
    "    for i in range(len(intervals)):\n",
    "        if intervals[i].left <= s <= intervals[i].right:\n",
    "            return i\n",
    "    return 0"
   ],
   "metadata": {
    "collapsed": false
   }
  },
  {
   "cell_type": "markdown",
   "source": [
    "## Simple Imitation"
   ],
   "metadata": {
    "collapsed": false
   }
  },
  {
   "cell_type": "code",
   "execution_count": 4,
   "outputs": [],
   "source": [
    "def simple_imitation(data):\n",
    "    data_ac = data[[\"state_0\", \"state_1\", \"state_2\", \"state_3\"]]\n",
    "    action_data_ac = data[[\"action_count\"]]\n",
    "\n",
    "    X = data_ac\n",
    "    y = action_data_ac\n",
    "    clf = LogisticRegression(random_state=1).fit(X.values, y.values.reshape(len(y),))\n",
    "\n",
    "    env = gym.make(\"CartPole-v1\")\n",
    "    rewards = []\n",
    "    for episode in range(100):\n",
    "        state, info = env.reset()\n",
    "        done = False\n",
    "        total_reward = 0\n",
    "\n",
    "        while not done:\n",
    "            #print(state)\n",
    "            action = clf.predict([state])\n",
    "            next_state, reward, done, _, _ = env.step(action[0])\n",
    "            state = next_state\n",
    "            total_reward += reward\n",
    "        rewards.append(total_reward)\n",
    "    return np.mean(rewards), np.std(rewards)"
   ],
   "metadata": {
    "collapsed": false
   }
  },
  {
   "cell_type": "markdown",
   "source": [
    "## Fitted_Q Learning"
   ],
   "metadata": {
    "collapsed": false
   }
  },
  {
   "cell_type": "code",
   "execution_count": 5,
   "outputs": [],
   "source": [
    "def update(state, action, reward, next_state, weights, lr):\n",
    "    pred_next = next_state.dot(weights) # evaluating Q, (n x 40) dot (40 x 2) gives (n x 2)\n",
    "    max_v = np.max(pred_next) # n x 1 where each entry is max Q value of that row\n",
    "    y = reward + 0.99*max_v # n x 1\n",
    "    temp = state.dot(weights) # n x 2\n",
    "    q = np.array([temp[i][action[i]] for i in range(len(action))]) # n x 1\n",
    "    gradient = np.reshape(q-y, (len(state), 1))*state\n",
    "    for i in range(len(state)):\n",
    "        weights[:,action[i]] -= lr*gradient[i]\n",
    "\n",
    "def fitted_q(data, do_sigmoid = True):\n",
    "    actions = np.array(data[:,4]).astype(int)\n",
    "    rewards = data[:,9]\n",
    "\n",
    "    #do_sigmoid = True\n",
    "    if (do_sigmoid):\n",
    "        data[:,0] = np.vectorize(sigmoid)(data[:,0])\n",
    "        data[:,1] = np.vectorize(sigmoid)(data[:,1])\n",
    "        data[:,2] = np.vectorize(sigmoid)(data[:,2])\n",
    "        data[:,3] = np.vectorize(sigmoid)(data[:,3])\n",
    "\n",
    "        data[:,5] = np.vectorize(sigmoid)(data[:,5])\n",
    "        data[:,6] = np.vectorize(sigmoid)(data[:,6])\n",
    "        data[:,7] = np.vectorize(sigmoid)(data[:,7])\n",
    "        data[:,8] = np.vectorize(sigmoid)(data[:,8])\n",
    "\n",
    "    s1 = pandas.qcut(data[:,0], 10, labels=range(0,10))\n",
    "    s2 = pandas.qcut(data[:,1], 10, labels=range(0,10))\n",
    "    s3 = pandas.qcut(data[:,2], 10, labels=range(0,10))\n",
    "    s4 = pandas.qcut(data[:,3], 10, labels=range(0,10))\n",
    "    states_onehot = np.array([one_hot(s1[i], s2[i], s3[i], s4[i]) for i in range(len(s1))]) # rows x\n",
    "\n",
    "    s1_cat = pandas.qcut(data[:,0], 10)\n",
    "    s2_cat = pandas.qcut(data[:,1], 10)\n",
    "    s3_cat = pandas.qcut(data[:,2], 10)\n",
    "    s4_cat = pandas.qcut(data[:,3], 10)\n",
    "\n",
    "    nx1 = pandas.qcut(data[:,5], 10, labels=range(0,10))\n",
    "    nx2 = pandas.qcut(data[:,6], 10, labels=range(0,10))\n",
    "    nx3 = pandas.qcut(data[:,7], 10, labels=range(0,10))\n",
    "    nx4 = pandas.qcut(data[:,8], 10, labels=range(0,10))\n",
    "    nextstates_onehot = np.array([one_hot(nx1[i], nx2[i], nx3[i], nx4[i]) for i in range(len(s1))])\n",
    "\n",
    "    weights = np.random.uniform(-0.001, 0.001, (40,2))\n",
    "\n",
    "    k = 5\n",
    "    for i in range(k):\n",
    "        update(states_onehot, actions, rewards, nextstates_onehot, weights, 0.00001)\n",
    "\n",
    "    env = gym.make(\"CartPole-v1\")\n",
    "    rewards = []\n",
    "    for episode in range(100):\n",
    "        state, info = env.reset()\n",
    "        done = False\n",
    "        total_reward = 0\n",
    "\n",
    "        while not done:\n",
    "            if (do_sigmoid):\n",
    "                state = np.vectorize(sigmoid)(state)\n",
    "            b1 = getBin(state[0], s1_cat.categories)\n",
    "            b2 = getBin(state[1], s2_cat.categories)\n",
    "            b3 = getBin(state[2], s3_cat.categories)\n",
    "            b4 = getBin(state[3], s4_cat.categories)\n",
    "            state = one_hot(b1,b2,b3,b4)\n",
    "\n",
    "            action = np.argmax(state.dot(weights))\n",
    "            next_state, reward, done, _, _ = env.step(action)\n",
    "            state = next_state\n",
    "            total_reward += reward\n",
    "\n",
    "        rewards.append(total_reward)\n",
    "    return np.mean(rewards), np.std(rewards)"
   ],
   "metadata": {
    "collapsed": false
   }
  },
  {
   "cell_type": "markdown",
   "source": [
    "## Plotting Results"
   ],
   "metadata": {
    "collapsed": false
   }
  },
  {
   "cell_type": "code",
   "execution_count": 6,
   "outputs": [
    {
     "name": "stdout",
     "output_type": "stream",
     "text": [
      "expert_500 Simple Imitation mean:  219.79\n",
      "expert_500 Simple Imitation standard_deviation:  64.887024126554\n",
      "expert_500 Fitted Q mean: 181.21\n",
      "expert_500 Fitted Q standard_deviation: 38.952867673638615\n",
      "expert_250 Simple Imitation mean:  222.3\n",
      "expert_250 Simple Imitation standard_deviation:  65.97582890725965\n",
      "expert_250 Fitted Q mean: 169.32\n",
      "expert_250 Fitted Q standard_deviation: 38.92399773918399\n",
      "expert_100 Simple Imitation mean:  201.47\n",
      "expert_100 Simple Imitation standard_deviation:  53.375547772364826\n",
      "expert_100 Fitted Q mean: 198.61\n",
      "expert_100 Fitted Q standard_deviation: 65.0965275571593\n",
      "mixed_500 Simple Imitation mean:  210.92\n",
      "mixed_500 Simple Imitation standard_deviation:  53.775585538420685\n",
      "mixed_500 Fitted Q mean: 829.19\n",
      "mixed_500 Fitted Q standard_deviation: 1889.5861382588514\n",
      "mixed_250 Simple Imitation mean:  199.21\n",
      "mixed_250 Simple Imitation standard_deviation:  46.59362510043621\n",
      "mixed_250 Fitted Q mean: 190.93\n",
      "mixed_250 Fitted Q standard_deviation: 52.86610539844977\n",
      "mixed_100 Simple Imitation mean:  204.64\n",
      "mixed_100 Simple Imitation standard_deviation:  47.247120547182554\n",
      "mixed_100 Fitted Q mean: 173.79\n",
      "mixed_100 Fitted Q standard_deviation: 43.34265681750486\n",
      "random_500 Simple Imitation mean:  63.94\n",
      "random_500 Simple Imitation standard_deviation:  28.647450148311627\n",
      "random_500 Fitted Q mean: 59.71\n",
      "random_500 Fitted Q standard_deviation: 25.12460745962014\n",
      "random_250 Simple Imitation mean:  9.38\n",
      "random_250 Simple Imitation standard_deviation:  0.7846018098373213\n",
      "random_250 Fitted Q mean: 11.97\n",
      "random_250 Fitted Q standard_deviation: 6.255325730927208\n",
      "random_100 Simple Imitation mean:  9.74\n",
      "random_100 Simple Imitation standard_deviation:  0.6264183905346329\n",
      "random_100 Fitted Q mean: 27.8\n",
      "random_100 Fitted Q standard_deviation: 11.882760622010357\n"
     ]
    },
    {
     "data": {
      "text/plain": "<Figure size 1200x600 with 1 Axes>",
      "image/png": "[encoded data removed]"
     },
     "metadata": {},
     "output_type": "display_data"
    }
   ],
   "source": [
    "simp_means = []\n",
    "simp_stdvs = []\n",
    "fq_means = []\n",
    "fq_stdvs = []\n",
    "csvs = [\"expert_500.csv\", \"expert_250.csv\",\"expert_100.csv\",\"mixed_500.csv\", \"mixed_250.csv\",\"mixed_100.csv\", \"random_500.csv\", \"random_250.csv\", \"random_100.csv\"]\n",
    "original_means = []\n",
    "for csv in csvs:\n",
    "    data = np.genfromtxt(csv, delimiter=',')[1:-1]\n",
    "    data_im = load_data(csv)\n",
    "    simp_mean, simp_stdv = simple_imitation(data_im)\n",
    "    simp_means.append(simp_mean)\n",
    "    simp_stdvs.append(simp_stdv)\n",
    "    print(f\"{csv[:-4]} Simple Imitation mean:  {simp_mean}\")\n",
    "    print(f\"{csv[:-4]} Simple Imitation standard_deviation:  {simp_stdv}\")\n",
    "    fq_mean, fq_stdv = fitted_q(data)\n",
    "    fq_means.append(fq_mean)\n",
    "    fq_stdvs.append(fq_stdv)\n",
    "    print(f\"{csv[:-4]} Fitted Q mean: {fq_mean}\")\n",
    "    print(f\"{csv[:-4]} Fitted Q standard_deviation: {fq_stdv}\")\n",
    "    avg_mean = len(data)/float(csv[-7:-4])\n",
    "    original_means.append(avg_mean)\n",
    "\n",
    "\n",
    "# def addlabels(x,y):\n",
    "#     for i in range(len(x)):\n",
    "#         plt.text(i,y[i],y[i])\n",
    "\n",
    "n_datasets = len(csvs)\n",
    "bar_width = 0.25\n",
    "opacity = 0.8\n",
    "plt.figure(figsize = (12,6))\n",
    "index = np.arange(n_datasets)\n",
    "\n",
    "plt.bar(index, simp_means, bar_width, alpha=opacity, yerr=simp_stdvs, label=\"Imitation Learning\")\n",
    "plt.bar(index+0.2, fq_means, bar_width, alpha=opacity, yerr=fq_stdvs,\n",
    "        label=\"Fitted Q-learning (Linear)\")\n",
    "plt.bar(index+0.4, original_means, bar_width, alpha=0.4, label=\"Policy Average Return\")\n",
    "#addlabels(csvs, simp_means)\n",
    "plt.xlabel(\"Dataset and Condition\")\n",
    "plt.ylabel(\"Mean Return\")\n",
    "plt.ylim((0,300))\n",
    "plt.xticks(index + bar_width,csvs)\n",
    "plt.legend()\n",
    "plt.tight_layout()\n",
    "plt.show()"
   ],
   "metadata": {
    "collapsed": false
   }
  }
 ],
 "metadata": {
  "kernelspec": {
   "display_name": "Python 3",
   "language": "python",
   "name": "python3"
  },
  "language_info": {
   "codemirror_mode": {
    "name": "ipython",
    "version": 2
   },
   "file_extension": ".py",
   "mimetype": "text/x-python",
   "name": "python",
   "nbconvert_exporter": "python",
   "pygments_lexer": "ipython2",
   "version": "2.7.6"
  }
 },
 "nbformat": 4,
 "nbformat_minor": 0
}
